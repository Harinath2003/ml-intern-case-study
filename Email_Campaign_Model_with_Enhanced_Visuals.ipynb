{
 "cells": [
  {
   "cell_type": "code",
   "execution_count": null,
   "id": "256c258c",
   "metadata": {},
   "outputs": [],
   "source": [
    "!pip install imbalanced-learn xgboost"
   ]
  },
  {
   "cell_type": "code",
   "execution_count": null,
   "id": "baec57cd",
   "metadata": {},
   "outputs": [],
   "source": [
    "import pandas as pd\n",
    "from sklearn.model_selection import train_test_split\n",
    "from sklearn.metrics import classification_report, roc_auc_score\n",
    "from imblearn.over_sampling import SMOTE\n",
    "from xgboost import XGBClassifier"
   ]
  },
  {
   "cell_type": "code",
   "execution_count": null,
   "id": "45ffdbfc",
   "metadata": {},
   "outputs": [],
   "source": [
    "# Load data\n",
    "email_df = pd.read_csv(\"email_table.csv\")\n",
    "opened_df = pd.read_csv(\"email_opened_table.csv\")\n",
    "clicked_df = pd.read_csv(\"link_clicked_table.csv\")"
   ]
  },
  {
   "cell_type": "code",
   "execution_count": null,
   "id": "c0fbbcbe",
   "metadata": {},
   "outputs": [],
   "source": [
    "# Label the clicked column\n",
    "email_df['clicked'] = email_df['email_id'].isin(clicked_df['email_id']).astype(int)\n",
    "\n",
    "# One-hot encode categorical features\n",
    "df_model = pd.get_dummies(email_df.drop(columns=['email_id']), drop_first=True)\n",
    "X = df_model.drop(columns='clicked')\n",
    "y = df_model['clicked']"
   ]
  },
  {
   "cell_type": "code",
   "execution_count": null,
   "id": "52c02c77",
   "metadata": {},
   "outputs": [],
   "source": [
    "# Apply SMOTE\n",
    "sm = SMOTE(random_state=42)\n",
    "X_resampled, y_resampled = sm.fit_resample(X, y)"
   ]
  },
  {
   "cell_type": "code",
   "execution_count": null,
   "id": "e93cf7a8",
   "metadata": {},
   "outputs": [],
   "source": [
    "# Train-test split\n",
    "X_train, X_test, y_train, y_test = train_test_split(X_resampled, y_resampled, test_size=0.2, random_state=42)"
   ]
  },
  {
   "cell_type": "code",
   "execution_count": null,
   "id": "c1f2364e",
   "metadata": {},
   "outputs": [],
   "source": [
    "# Train model\n",
    "model = XGBClassifier(random_state=42, use_label_encoder=False, eval_metric='logloss')\n",
    "model.fit(X_train, y_train)"
   ]
  },
  {
   "cell_type": "code",
   "execution_count": null,
   "id": "de852853",
   "metadata": {},
   "outputs": [],
   "source": [
    "# Predict and evaluate\n",
    "y_pred = model.predict(X_test)\n",
    "y_prob = model.predict_proba(X_test)[:, 1]\n",
    "\n",
    "print(\"Classification Report:\\n\", classification_report(y_test, y_pred))\n",
    "print(\"ROC-AUC Score:\", roc_auc_score(y_test, y_prob))"
   ]
  },
  {
   "cell_type": "code",
   "execution_count": null,
   "id": "c9a136cf",
   "metadata": {},
   "outputs": [],
   "source": [
    "import matplotlib.pyplot as plt\n",
    "import seaborn as sns\n",
    "\n",
    "# Feature Importance\n",
    "importances = model.feature_importances_\n",
    "features = X.columns\n",
    "feat_imp = pd.Series(importances, index=features).sort_values(ascending=False).head(10)\n",
    "\n",
    "plt.figure(figsize=(10,6))\n",
    "sns.barplot(x=feat_imp.values, y=feat_imp.index)\n",
    "plt.title(\"Top 10 Feature Importances\")\n",
    "plt.xlabel(\"Importance Score\")\n",
    "plt.ylabel(\"Features\")\n",
    "plt.tight_layout()\n",
    "plt.show()"
   ]
  },
  {
   "cell_type": "code",
   "execution_count": null,
   "id": "849835d7",
   "metadata": {},
   "outputs": [],
   "source": [
    "# CTR by Segments\n",
    "email_df['opened'] = email_df['email_id'].isin(opened_df['email_id']).astype(int)\n",
    "email_df['clicked'] = email_df['email_id'].isin(clicked_df['email_id']).astype(int)\n",
    "\n",
    "def ctr_by_column(column):\n",
    "    return email_df.groupby(column)['clicked'].mean().sort_values(ascending=False)\n",
    "\n",
    "# Plot CTR by Email Version, Text, Country, Weekday\n",
    "fig, axes = plt.subplots(2, 2, figsize=(14, 10))\n",
    "\n",
    "sns.barplot(x=ctr_by_column('email_version').index, y=ctr_by_column('email_version').values, ax=axes[0, 0])\n",
    "axes[0, 0].set_title('CTR by Email Version')\n",
    "\n",
    "sns.barplot(x=ctr_by_column('email_text').index, y=ctr_by_column('email_text').values, ax=axes[0, 1])\n",
    "axes[0, 1].set_title('CTR by Email Text')\n",
    "\n",
    "sns.barplot(x=ctr_by_column('user_country').index, y=ctr_by_column('user_country').values, ax=axes[1, 0])\n",
    "axes[1, 0].set_title('CTR by Country')\n",
    "axes[1, 0].tick_params(axis='x', rotation=45)\n",
    "\n",
    "sns.barplot(x=ctr_by_column('weekday').index, y=ctr_by_column('weekday').values, ax=axes[1, 1])\n",
    "axes[1, 1].set_title('CTR by Weekday')\n",
    "\n",
    "for ax in axes.flat:\n",
    "    ax.set_ylabel(\"Click Through Rate\")\n",
    "\n",
    "plt.tight_layout()\n",
    "plt.show()"
   ]
  },
  {
   "cell_type": "code",
   "execution_count": null,
   "id": "df720738",
   "metadata": {},
   "outputs": [],
   "source": [
    "\n",
    "import matplotlib.pyplot as plt\n",
    "import seaborn as sns\n",
    "\n",
    "# Set visual theme\n",
    "sns.set_theme(style=\"whitegrid\")\n",
    "\n",
    "# Function to compute CTR\n",
    "def ctr_by_column(column):\n",
    "    return email_df.groupby(column)['clicked'].mean().sort_values(ascending=False)\n",
    "\n",
    "# Compute CTRs\n",
    "ctr_version = ctr_by_column('email_version')\n",
    "ctr_text = ctr_by_column('email_text')\n",
    "ctr_country = ctr_by_column('user_country')\n",
    "ctr_weekday = ctr_by_column('weekday')\n",
    "\n",
    "# Plot\n",
    "fig, axes = plt.subplots(2, 2, figsize=(16, 12))\n",
    "bar_colors = sns.color_palette(\"colorblind\")\n",
    "\n",
    "# Email Version\n",
    "sns.barplot(x=ctr_version.index, y=ctr_version.values, ax=axes[0, 0], palette=bar_colors)\n",
    "axes[0, 0].set_title('CTR by Email Version', fontsize=14)\n",
    "axes[0, 0].set_ylabel('Click Through Rate')\n",
    "axes[0, 0].set_xlabel('Email Version')\n",
    "\n",
    "# Email Text\n",
    "sns.barplot(x=ctr_text.index, y=ctr_text.values, ax=axes[0, 1], palette=bar_colors)\n",
    "axes[0, 1].set_title('CTR by Email Text', fontsize=14)\n",
    "axes[0, 1].set_ylabel('Click Through Rate')\n",
    "axes[0, 1].set_xlabel('Email Text')\n",
    "\n",
    "# Country\n",
    "sns.barplot(x=ctr_country.index, y=ctr_country.values, ax=axes[1, 0], palette=bar_colors)\n",
    "axes[1, 0].set_title('CTR by Country', fontsize=14)\n",
    "axes[1, 0].set_ylabel('Click Through Rate')\n",
    "axes[1, 0].set_xlabel('User Country')\n",
    "axes[1, 0].tick_params(axis='x', rotation=45)\n",
    "\n",
    "# Weekday\n",
    "sns.barplot(x=ctr_weekday.index, y=ctr_weekday.values, ax=axes[1, 1], palette=bar_colors)\n",
    "axes[1, 1].set_title('CTR by Weekday', fontsize=14)\n",
    "axes[1, 1].set_ylabel('Click Through Rate')\n",
    "axes[1, 1].set_xlabel('Day of Week')\n",
    "axes[1, 1].tick_params(axis='x', rotation=30)\n",
    "\n",
    "plt.suptitle('Click-Through Rate (CTR) Analysis by Segment', fontsize=16, fontweight='bold')\n",
    "plt.tight_layout(rect=[0, 0.03, 1, 0.95])\n",
    "plt.show()\n"
   ]
  }
 ],
 "metadata": {},
 "nbformat": 4,
 "nbformat_minor": 5
}
